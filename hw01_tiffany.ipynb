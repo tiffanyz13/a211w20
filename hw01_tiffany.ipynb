{
 "cells": [
  {
   "cell_type": "markdown",
   "metadata": {},
   "source": [
    "# Assignment 1: Numerical Integration"
   ]
  },
  {
   "cell_type": "code",
   "execution_count": 146,
   "metadata": {},
   "outputs": [],
   "source": [
    "\n",
    "import numpy as np\n",
    "from scipy import integrate\n",
    "# import matplotlib's PyPlot library denoting it as plt for brevity\n",
    "import matplotlib.pyplot as plt\n",
    "def plot_pretty(dpi=175,fontsize=9):\n",
    "    # import pyplot and set some parameters to make plots prettier\n",
    "    plt.rc(\"savefig\", dpi=dpi)\n",
    "    plt.rc(\"figure\", dpi=dpi)\n",
    "    plt.rc('font', size=fontsize)\n",
    "    plt.rc('xtick', direction='in') \n",
    "    plt.rc('ytick', direction='in')\n",
    "    plt.rc('xtick.major', pad=5) \n",
    "    plt.rc('xtick.minor', pad=5)\n",
    "    plt.rc('ytick.major', pad=5) \n",
    "    plt.rc('ytick.minor', pad=5)\n",
    "    plt.rc('lines', dotted_pattern = [0.5, 1.1])\n",
    "    return\n",
    "\n",
    "#if you don't have LaTeX installed on your laptop and this statement \n",
    "# generates error, comment it out\n",
    "plt.rc('text', usetex=True)\n",
    "\n",
    "# use jupyter \"magic\" command to tell it to embed plot into the notebook \n",
    "%matplotlib inline\n",
    "\n",
    "def plot_line(x, y, figsize=6, xlabel=' ', ylabel=' ', col= 'darkslateblue', legend=None, figsave = None):\n",
    "    plt.figure(figsize=(figsize,figsize))\n",
    "    plt.xlabel(xlabel); plt.ylabel(ylabel)\n",
    "    \n",
    "    if legend:\n",
    "        plt.plot(x, y, lw = 1., c=col, label = legend)\n",
    "        plt.legend(frameon=False, loc='lower left')\n",
    "    else:\n",
    "        plt.plot(x, y, lw = 1., c=col)\n",
    "\n",
    "    if figsave:\n",
    "        plt.savefig(figsave, bbox_inches='tight')\n",
    "\n",
    "    plt.show()\n",
    "    \n",
    "def plot_line_points(x, y, figsize=6, xlabel=' ', ylabel=' ', col= 'darkslateblue', \n",
    "                     xp = None, yp = None, points = False, pmarker='.', pcol='slateblue',\n",
    "                     legend=None, plegend = None, legendloc='lower right', \n",
    "                     plot_title = None, grid=None, figsave = None):\n",
    "    plt.figure(figsize=(figsize,figsize))\n",
    "    plt.xlabel(xlabel); plt.ylabel(ylabel)\n",
    "    # Initialize minor ticks\n",
    "    plt.minorticks_on()\n",
    "\n",
    "    if legend:\n",
    "        plt.plot(x, y, lw = 1., c=col, label = legend)\n",
    "        if points: \n",
    "            if plegend:\n",
    "                plt.scatter(xp, yp, marker=pmarker, lw = 2., c=pcol, label=plegend)\n",
    "            else:\n",
    "                plt.scatter(xp, yp, marker=pmarker, lw = 2., c=pcol)\n",
    "        plt.legend(frameon=False, loc=legendloc, fontsize=3.*figsize)\n",
    "    else:\n",
    "        plt.plot(x, y, lw = 1., c=col)\n",
    "        if points:\n",
    "            plt.scatter(xp, yp, marker=pmarker, lw = 2., c=pcol)\n",
    "\n",
    "    if plot_title:\n",
    "        plt.title(plot_title, fontsize=3.*figsize)\n",
    "        \n",
    "    if grid: \n",
    "        plt.grid(linestyle='dotted', lw=0.5, color='lightgray')\n",
    "        \n",
    "    if figsave:\n",
    "        plt.savefig(figsave, bbox_inches='tight')\n",
    "\n",
    "    plt.show()"
   ]
  },
  {
   "cell_type": "markdown",
   "metadata": {},
   "source": [
    "## Task 1a"
   ]
  },
  {
   "cell_type": "code",
   "execution_count": 147,
   "metadata": {},
   "outputs": [],
   "source": [
    "#using given trapzd function here\n",
    "def trapzd(func, a, b, hstep, *args):\n",
    "    \"\"\"\n",
    "    integration using trapezoidal scheme\n",
    "    \n",
    "    Parameters:\n",
    "    -----------\n",
    "    func: python function object - function to integrate\n",
    "    a, b: floats - integration interval\n",
    "    hstep: float - step size to use\n",
    "    *args: pointer to argument list to pass to dl_func\n",
    "    \n",
    "    Returns:\n",
    "    --------\n",
    "    float - value of the integral estimated using trapezoidal integration    \n",
    "    \"\"\"\n",
    "    bma = np.abs(b-a)\n",
    "            \n",
    "    nstep = np.int(bma / hstep) \n",
    "    #print(\"a: \",a,\"b: \",a,\"nstep: \",nstep)\n",
    "    if nstep == 1:\n",
    "        #print(\"if\")\n",
    "        return 0.5*(func(a, *args) + func(b, *args)) * hstep\n",
    "    else: \n",
    "        #print(\"else\")\n",
    "        xd = a + np.arange(nstep) * hstep # np.arange creates a vector of values from 0 to nstep-1\n",
    "        #print(\"xd_trap: \",xd)\n",
    "        return (0.5*(func(a, *args) + func(b, *args)) + np.sum(func(xd[1:],*args))) * hstep\n",
    "\n",
    "\n",
    "def myromberg(func, a, b, hstep, *args):\n",
    "    \"\"\"\n",
    "    integration using Romberg scheme\n",
    "    \n",
    "    Parameters:\n",
    "    -----------\n",
    "    func: python function object - function to integrate\n",
    "    a, b: floats - integration interval\n",
    "    hstep: float - step size to use\n",
    "    *args: pointer to argument list to pass to dl_func\n",
    "    \n",
    "    Returns:\n",
    "    --------\n",
    "    float - value of the integral estimated using Romberg integration    \n",
    "    \"\"\"\n",
    "    #print(hstep)\n",
    "    k = np.log2(2*(b-a)/hstep) #ensure subintervals are power of 2\n",
    "    nstep = 2**(k-1)\n",
    "    #print(\"hstep: \",hstep,\"nstep: \",nstep, \"k: \",k)\n",
    "\n",
    "    xd = a+(2.*(np.arange(nstep)+1)-1)*(hstep/2.) #vector of points for eval\n",
    "    #print(\"xd: \",xd)\n",
    "    return (1./3)*(trapzd(func, a, b, hstep, *args) + 2*hstep*np.sum(func(xd, *args)))\n"
   ]
  },
  {
   "cell_type": "markdown",
   "metadata": {},
   "source": [
    "### Testing myromberg() \n",
    "\n",
    "I am checking the Romberg function for the integral of (1) $sin(x)$ on [0,$\\pi$] and (2)$e^x$ on [0,1] for h-step = $\\frac{1}{256}$. The computed results are close to 2 and 1.7182... respectively, so it seems like the function is working correctly."
   ]
  },
  {
   "cell_type": "code",
   "execution_count": 148,
   "metadata": {},
   "outputs": [
    {
     "name": "stdout",
     "output_type": "stream",
     "text": [
      "1.9999996864189804\n",
      "1.718281828459184\n"
     ]
    },
    {
     "data": {
      "text/plain": [
       "1.718281828459045"
      ]
     },
     "execution_count": 148,
     "metadata": {},
     "output_type": "execute_result"
    }
   ],
   "source": [
    "#Computation by Romberg scheme\n",
    "print(myromberg(np.sin,0,np.pi,1/1024))\n",
    "print(myromberg(np.exp,0,1,1/256))\n",
    "\n",
    "#calculate exact answer for (2)\n",
    "np.exp(1) - np.exp(0)\n",
    "#integrate.romberg(np.sin, 0, np.pi)"
   ]
  },
  {
   "cell_type": "markdown",
   "metadata": {},
   "source": [
    "### Scaling of fractional error\n",
    "\n",
    "The error does scale with $h^4$ (model indicated by the line). The graph also shows that the error of the Romberg computation is approximately bounded by $10^{-16}$ (cannot get any more accurate). This is because error scales $\\approx 2\\varepsilon\\vert x\\vert\\approx 2.2\\times 10^{-16}\\vert x\\vert$. The exact value $x = 2$ is comparatively large in this case and so the fractional error is proportionally large as well."
   ]
  },
  {
   "cell_type": "code",
   "execution_count": 149,
   "metadata": {},
   "outputs": [],
   "source": [
    "#create h-grid in logspace\n",
    "exp = np.linspace(-8,0,20) \n",
    "hgrid = 10.**exp\n",
    "\n",
    "j = np.arange(0,20)\n",
    "\n",
    "exact = 2.0 #save exact integral answer to (1)\n",
    "a = 0\n",
    "b = np.pi\n",
    "\n",
    "hgrid = (b-a)/(2**j)\n",
    "  #expected that total num of sub-intervals of (a,b), which is 2**j, is a power of 2 \n",
    "\n",
    "\n",
    "error=[]\n",
    "#idx = 0\n",
    "for i in range(len(hgrid)):\n",
    "    #print(idx)\n",
    "    #trap = trapzd(np.sin, a, b, hgrid[i],test)\n",
    "    rom = myromberg(np.sin, a, b, hgrid[i])\n",
    "    e_i = abs(1.-(rom/exact))\n",
    "    error.append(e_i)\n",
    "    #idx = idx+1"
   ]
  },
  {
   "cell_type": "code",
   "execution_count": 150,
   "metadata": {},
   "outputs": [
    {
     "data": {
      "image/png": "[encoded data removed]",
      "text/plain": [
       "<Figure size 288x288 with 1 Axes>"
      ]
     },
     "metadata": {
      "needs_background": "light"
     },
     "output_type": "display_data"
    }
   ],
   "source": [
    "#compute fractional error\n",
    "error = np.maximum(1./2**52,error)\n",
    "ferr_model = error[1] * (hgrid/hgrid[1])**4\n",
    "\n",
    "plot_line_points(np.log10(hgrid), np.log10(ferr_model), \n",
    "                 xlabel=r'$\\log_{10} h$', ylabel=r'log10(frac. error)', \n",
    "                 xp=np.log10(hgrid), yp=np.log10(error), figsize=4, points=True,\n",
    "                 legend=r'${\\rm scaling} \\propto h^4$',\n",
    "                 plegend = r'$\\rm measured\\ error$',\n",
    "                 plot_title=r'$R_1\\ \\rm frac.\\ error\\ scaling\\ with\\ step\\ size$')\n"
   ]
  },
  {
   "cell_type": "markdown",
   "metadata": {},
   "source": [
    "# Task 1b\n",
    "\n",
    "myromberg_h(func, a, b, atol, rtol, \\*args) performs integration with the Romberg scheme and chooses an h to return a value within the specified tolerances.\n"
   ]
  },
  {
   "cell_type": "code",
   "execution_count": 151,
   "metadata": {},
   "outputs": [],
   "source": [
    "\n",
    "#helper function to compute absolute and fractional error\n",
    "def errors(func, a, b, hstep,*args):\n",
    "    \"\"\"\n",
    "    computes absolute error and fractional error\n",
    "    \n",
    "    Parameters:\n",
    "    -----------\n",
    "    func: python function object - function to integrate\n",
    "    a, b: floats - integration interval\n",
    "    hstep: step size\n",
    "    \n",
    "    Returns:\n",
    "    --------\n",
    "    float, float - absolute error, fractional error\n",
    "    \"\"\"\n",
    "    rom = myromberg(func, a, b, hstep,*args)\n",
    "    trap = trapzd(func, a, b, hstep,*args)\n",
    "    if rom:\n",
    "        abs_error =np.maximum(abs(rom - trap), 1./2**52)\n",
    "        frac_error = np.maximum(abs(1-trap/rom), 1./2**52)\n",
    "        if abs_error == 1./2**52:\n",
    "            print(\"alert\")\n",
    "        #print(\"rom: \",rom, \"trap: \",trap)\n",
    "        #print(\"abs_error: \", abs_error, \", frac_error: \",frac_error)\n",
    "        return abs_error, frac_error\n",
    "    else:\n",
    "        return abs(trap) #return absolute error only\n",
    "        print(\"romberg function returns 0: fractional error not computed\")\n",
    "\n",
    "def choose_h(func, a, b, atol, rtol, *args):\n",
    "    \"\"\"\n",
    "    selects minimum step h to achieve input absolute tolerance and fractional accuracy\n",
    "    \n",
    "    Parameters:\n",
    "    -----------\n",
    "    func: python function object - function to integrate\n",
    "    a, b: floats - integration interval\n",
    "    atol: threshold absolute tolerance\n",
    "    rtol: threshold fractional accuracy \n",
    "    \n",
    "    Returns:\n",
    "    --------\n",
    "    float - hstep that would will return an error <= min(atol, rtol)\n",
    "            if rtol = 0, then returns atol by default\n",
    "    \"\"\"\n",
    "    #how to define h-grid?\n",
    "    j = np.arange(0,20)\n",
    "    hgrid = (b-a)/(2**j) #create h-grid with with 2**j sub-intervals\n",
    "    h_abs, h_frac = 0, 0 #initialize chosen h's to largest h\n",
    "    #print(hgrid)\n",
    "    #print(\"length: \",len(hgrid))\n",
    "    for i in range(len(hgrid)):\n",
    "        #print(i)\n",
    "        absError, fracError = errors(func, a, b, hgrid[i],*args)\n",
    "        if h_abs != 0 and h_frac != 0:\n",
    "            #print(\"stop\")\n",
    "            return min(h_abs, h_frac) #return smallest possible h\n",
    "        elif h_abs == 0: \n",
    "            if absError < atol:\n",
    "                #print(\"SELECT h_abs: \",hgrid[i])\n",
    "                h_abs = hgrid[i] #choose h corresponding to absolute error\n",
    "        elif h_frac == 0:\n",
    "            if fracError < rtol:\n",
    "                #print(\"SELECT h_frac: \",hgrid[i])\n",
    "                h_frac = hgrid[i] #choose h corresponding to fractional error\n",
    "    #print(\"choosing smallest h\")\n",
    "    return(hgrid[-1])\n",
    "\n",
    "def myromberg_h(func, a, b, atol, rtol, *args):\n",
    "    \"\"\"\n",
    "    integration using Romberg scheme, with min(atol, rtol)\n",
    "    \n",
    "    Parameters:\n",
    "    -----------\n",
    "    func: python function object - function to integrate\n",
    "    a, b: floats - integration interval\n",
    "    atol: threshold absolute tolerance\n",
    "    rtol: threshold fractional accuracy \n",
    "    \n",
    "    Returns:\n",
    "    --------\n",
    "    float - value of the integral with min(atol, rtol) \n",
    "    \"\"\"\n",
    "    min_h = choose_h(func, a, b, atol, rtol, *args)\n",
    "    r = myromberg(func, a, b, min_h, *args)\n",
    "    return r"
   ]
  },
  {
   "cell_type": "markdown",
   "metadata": {},
   "source": [
    "### Testing the new Romberg routine\n",
    "\n",
    "I am testing the routine by computing the integral $sin(x)$ on [0,$\\pi$] with different tolerance values and checking if the computed fractional and absolute errors are less than the input tolerance levels."
   ]
  },
  {
   "cell_type": "code",
   "execution_count": 152,
   "metadata": {},
   "outputs": [
    {
     "name": "stdout",
     "output_type": "stream",
     "text": [
      "[1e-08, 1e-07, 1e-06, 1e-05, 0.0001, 0.001, 0.01]\n",
      "r1:  2.0 atol 1e-08 true frac error:  0.0 true abs error: 0.0\n",
      "r1:  2.0 atol 1e-07 true frac error:  0.0 true abs error: 0.0\n",
      "r1:  2.0 atol 1e-06 true frac error:  0.0 true abs error: 0.0\n",
      "r1:  2.0000000000000613 atol 1e-05 true frac error:  3.064215547965432e-14 true abs error: 6.128431095930864e-14\n",
      "r1:  2.000000000000984 atol 0.0001 true frac error:  4.920508445138694e-13 true abs error: 9.841016890277388e-13\n",
      "r1:  2.000000000252002 atol 0.001 true frac error:  1.2600098742154842e-10 true abs error: 2.5200197484309683e-10\n",
      "r1:  2.000000064530002 atol 0.01 true frac error:  3.226500089326123e-08 true abs error: 6.453000178652246e-08\n"
     ]
    }
   ],
   "source": [
    "#define testing parameters\n",
    "exact = 2.0 #save exact integral answer\n",
    "a = 0\n",
    "b = np.pi\n",
    "abs_tol = 10**(-3)\n",
    "rel_tol = 10**(-3)\n",
    "\n",
    "#generate tolerance array\n",
    "tol=[]\n",
    "for i in range(-8,-1):\n",
    "    tol.append(10**i)\n",
    "print(tol)\n",
    "\n",
    "#test variety of tolerances\n",
    "for i in range(len(tol)):\n",
    "    r1 = myromberg_h(np.sin, a, b,tol[i], rel_tol)\n",
    "    frac_error = abs(1.-(r1/exact))\n",
    "    abs_error = abs(r1 - exact)\n",
    "    print(\"r1: \", r1, \"atol\",tol[i],\"true frac error: \",frac_error, \"true abs error:\", abs_error)\n",
    "\n",
    "    "
   ]
  },
  {
   "cell_type": "markdown",
   "metadata": {},
   "source": [
    "# Task 1c \n",
    "\n",
    "lum(z, H0, Om0, OmL, atol, rtol) computes the luminosity using Romberg integration with the specified tolerances."
   ]
  },
  {
   "cell_type": "code",
   "execution_count": 120,
   "metadata": {},
   "outputs": [
    {
     "data": {
      "text/plain": [
       "1.9999999999997802"
      ]
     },
     "execution_count": 120,
     "metadata": {},
     "output_type": "execute_result"
    }
   ],
   "source": [
    "#Testing parameters\n",
    "#d_L_simple, dl_func, _dc functions are copied from HW01 notes\n",
    "clight = 2.99792458e5 # c in km/s\n",
    "H0, Om0, OmL = 70., 0.3, 0.7;\n",
    "Omk = 1.0 - Om0 - OmL\n",
    "z = 2.0\n",
    "\n",
    "hstep = 1.e-6\n",
    "\n",
    "# function that works only for models with OmL = 0\n",
    "def d_L_simple(z, H0, Om0):\n",
    "    q0 = 0.5 * Om0\n",
    "    q0z = q0 * z\n",
    "    return clight * z/H0 * (1. + (z-q0z) / (1. + q0z + np.sqrt(1. + 2.*q0z)))  \n",
    "\n",
    "def dl_func(x, H0, Om0, OmL, Omk):\n",
    "    \"\"\"returns 1/E(z), the function to be integrated to find d_C\"\"\"\n",
    "    #print(\"x: \",x,\" Om0: \",Om0,\" OmL: \",OmL,\" Omk: \",Omk)\n",
    "    z1 = 1.0 + x; z12 = z1 * z1\n",
    "    return 1.0 / np.sqrt(z12*(Om0*z1 + Omk) + OmL)\n"
   ]
  },
  {
   "cell_type": "code",
   "execution_count": 121,
   "metadata": {},
   "outputs": [],
   "source": [
    "def _dc(z1, z2, hstep, *args):\n",
    "    \"\"\"\n",
    "    helper function to compute D_c from z1 to z2 by numerical integration using trapzd\n",
    "    \n",
    "    Parameters: \n",
    "    -----------\n",
    "    z1, z2: floats = redshift integration limits\n",
    "    hstep: float = step size for trapezoidal integration\n",
    "    *args: pointer to argument list to pass to dl_func\n",
    "    \n",
    "    Returns:\n",
    "    --------\n",
    "    float - value of the integral estimated using trapezoidal integration\n",
    "    \"\"\"\n",
    "    return trapzd(dl_func, z1, z2, hstep, *args)"
   ]
  },
  {
   "cell_type": "code",
   "execution_count": 122,
   "metadata": {},
   "outputs": [],
   "source": [
    "def lum(z, H0, Om0, OmL, atol, rtol):\n",
    "    \"\"\"\n",
    "    routine computing luminosity distance from z=0 to z \n",
    "    using helper routine for comoving distance _dc\n",
    "    \n",
    "    Parameters:\n",
    "    -----------\n",
    "    z: float - redshift to which to compute d_L\n",
    "    H0: float - Hubble constant in units of km/s/Mpc\n",
    "    Om0: float - dimensionless mean matter density in the universe, >= 0\n",
    "    OmL: float - dimensionless mean vacuum energy density in the universe\n",
    "    atol: minimum absolute tolerance\n",
    "    rtol: minimum fractional error\n",
    "     \n",
    "    Returns:\n",
    "    --------\n",
    "    float - value of d_L(z, H0, Om0, OmL) \n",
    "            estimated using trapezoidal integration with hstep chosen by atol/rtol\n",
    "    \"\"\"\n",
    "    if 1.0+OmL == 1.0: # note that I exploit the roundoff error in testing whether OmL is consistent with zero\n",
    "        return d_L_simple(z, H0, Om0) # if OmL=0, use simple formula without integration\n",
    "    else: # otherwise use numerical integration to compute distance \n",
    "        dH = clight / H0 \n",
    "        Omk = 1.0 - Om0 - OmL\n",
    "        args = [H0, Om0, OmL, Omk]\n",
    "        hstep = choose_h(dl_func, a, b, atol, rtol, *args)\n",
    "        dc = _dc(0., z, hstep, *args)\n",
    "        if 1.0 + Omk == 1.0:\n",
    "            return dH * dc * (1.0 + z)\n",
    "        else:\n",
    "            sqrOmk = np.sqrt(np.abs(Omk))\n",
    "            if Omk > 0.:\n",
    "                return dH * np.sinh(dc*sqrOmk) * (1.0 + z) / sqrOmk \n",
    "            else:\n",
    "                return dH * np.sin(dc*sqrOmk) * (1.0 + z) / sqrOmk\n",
    "            \n",
    "        return dL"
   ]
  },
  {
   "cell_type": "code",
   "execution_count": 123,
   "metadata": {},
   "outputs": [
    {
     "data": {
      "text/plain": [
       "15534.286470667645"
      ]
     },
     "execution_count": 123,
     "metadata": {},
     "output_type": "execute_result"
    }
   ],
   "source": [
    "#Testing the luminosity function\n",
    "\n",
    "H0, Om0, OmL = 70., 0.3, 0.7;\n",
    "z = 2.0\n",
    "\n",
    "hstep = 1.e-6\n",
    "\n",
    "lum(z, H0, Om0, OmL, 0.01, 10**(-7))"
   ]
  },
  {
   "cell_type": "code",
   "execution_count": null,
   "metadata": {},
   "outputs": [],
   "source": []
  },
  {
   "cell_type": "code",
   "execution_count": null,
   "metadata": {},
   "outputs": [],
   "source": []
  },
  {
   "cell_type": "code",
   "execution_count": null,
   "metadata": {},
   "outputs": [],
   "source": []
  }
 ],
 "metadata": {
  "kernelspec": {
   "display_name": "Python 3",
   "language": "python",
   "name": "python3"
  },
  "language_info": {
   "codemirror_mode": {
    "name": "ipython",
    "version": 3
   },
   "file_extension": ".py",
   "mimetype": "text/x-python",
   "name": "python",
   "nbconvert_exporter": "python",
   "pygments_lexer": "ipython3",
   "version": "3.7.4"
  }
 },
 "nbformat": 4,
 "nbformat_minor": 2
}
