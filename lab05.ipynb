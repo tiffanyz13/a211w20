{
 "cells": [
  {
   "cell_type": "markdown",
   "metadata": {
    "slideshow": {
     "slide_type": "slide"
    }
   },
   "source": [
    "## ASTR 21000, Winter 2020\n",
    "\n",
    "## Laboratory on model parameter inference\n",
    "\n",
    "### Distributed: Monday, March 2"
   ]
  },
  {
   "cell_type": "markdown",
   "metadata": {},
   "source": [
    "import packages needed by the codes below. Run this cell first before using these codes. "
   ]
  },
  {
   "cell_type": "code",
   "execution_count": 2,
   "metadata": {},
   "outputs": [],
   "source": [
    "import numpy as np\n",
    "\n",
    "# use jupyter \"magic\" command to tell it to embed plot into the notebook \n",
    "import matplotlib.pyplot as plt\n",
    "%matplotlib inline\n",
    "\n",
    "from codes.plot_utils import plot_pretty\n",
    "plot_pretty(fontsize=12)"
   ]
  },
  {
   "cell_type": "code",
   "execution_count": 3,
   "metadata": {},
   "outputs": [
    {
     "name": "stdout",
     "output_type": "stream",
     "text": [
      "read sample of 740 supernovae...\n"
     ]
    }
   ],
   "source": [
    "#zCMB, mB, emB were used before in hw 3\n",
    "# x1 and ex1 are stretch parameter measured for each SN and its uncertainty\n",
    "# csn and ecsn are color parameter and its uncertainty\n",
    "zCMB, mB, emB, x1, ex1, csn, ecsn = np.loadtxt('data/jla_lcparams.txt', \n",
    "                                               usecols=(1, 4, 5, 6, 7, 8, 9), unpack=True)\n",
    "\n",
    "print(\"read sample of %d supernovae...\"%(np.size(zCMB)))"
   ]
  },
  {
   "cell_type": "code",
   "execution_count": 6,
   "metadata": {},
   "outputs": [],
   "source": [
    "#Set up parameters\n",
    "from codes.cosmology import d_L_romberg\n",
    "from scipy.interpolate import RectBivariateSpline\n",
    "from codes.cosmology import d_L_vectorized\n",
    "from codes.plot_utils import plot_color_map\n",
    "\n",
    "clight = 2.99792458e5 # c in km/s\n",
    "z, H0 = 2.0, 70.\n",
    "Om0min, Om0max, OmLmin, OmLmax = 0., 1.,0.,1.\n",
    "ntr = 10\n",
    "\n",
    "def lum_grid(z, H0, Om0_vec, OmL_vec, atol=2.e-15, rtol=2.e-15):\n",
    "    \"\"\"\n",
    "    helper function returns a grid of dL (scaled by H0/c)\n",
    "    with n x n dimensions\n",
    "    where n = the length of the Om0 and OmL vectors\n",
    "    \"\"\"\n",
    "    n = np.size(Om0_vec)\n",
    "    grid = np.zeros([n,n])\n",
    "    for i in range(n):\n",
    "        for j in range(n):\n",
    "            grid[i][j] = (H0/clight)*d_L_vectorized(z, H0, Om0_vec[i], OmL_vec[j], atol=atol, rtol=rtol)\n",
    "            #grid[i][j] = lum_scale(z, H0, Om0_vec[i],OmL_vec[j])\n",
    "    return grid\n",
    "\n",
    "def chebyshev_nodes1(a, b, N):\n",
    "    return a + 0.5*(b-a)*(1. + np.cos((2.*np.arange(N+1)+1)*np.pi/(2.*(N+1))))\n",
    "\n",
    "def polyfit2d(xtr, ytr, ftr, kx=3, ky=3, order=None):\n",
    "    '''\n",
    "    Returns polynomial spline coefficients for 2D polyfit w/ least squares\n",
    "    \n",
    "    Parameters:\n",
    "    xtr, ytr: array-like, 1d\n",
    "        xtr and ytr coordinates.\n",
    "    ftr: 2d numpy array\n",
    "        f(xgtr, ygtr) values evaluated on meshgrid of xtr and ytr vectors to fit by polynomial\n",
    "    kx, ky: int, default is 3\n",
    "        Polynomial order in x and y, respectively.\n",
    "    order: int or None, default is None\n",
    "    '''\n",
    "    # grid coords\n",
    "    x, y = np.meshgrid(xtr, ytr)\n",
    "    # coefficient array, up to x^kx, y^ky\n",
    "    coeffs = np.ones((kx+1, ky+1))\n",
    "\n",
    "    # solve array\n",
    "    V = np.zeros((coeffs.size, x.size))\n",
    "\n",
    "    # construct Vandermonde matrix: for each coefficient produce array x^i, y^j\n",
    "    for index, (j, i) in enumerate(np.ndindex(coeffs.shape)):\n",
    "        # do not include powers greater than order\n",
    "        if order is not None and i + j > order:\n",
    "            arr = np.zeros_like(x)\n",
    "        else:\n",
    "            arr = coeffs[i, j] * x**i * y**j\n",
    "        V[index] = arr.flatten()\n",
    "        \n",
    "    # do leastsq fitting and return leastsq result\n",
    "    return np.linalg.lstsq(V.T, np.ravel(ftr), rcond=None)[0]\n",
    "\n",
    "dLz = []\n",
    "ntest = 100\n",
    "\n",
    "Om0tr = chebyshev_nodes1(Om0min, Om0max, ntr-1)[::-1]\n",
    "OmLtr = chebyshev_nodes1(OmLmin, OmLmax, ntr-1)[::-1]\n",
    "\n",
    "Om0 = np.linspace(Om0min, Om0max, ntest)\n",
    "OmL = np.linspace(OmLmin, OmLmax, ntest)\n",
    "\n",
    "Om0_grid, OmL_grid = np.meshgrid(Om0, Om0, sparse=False, indexing='ij')\n",
    "\n",
    "for iz, zi in enumerate(zCMB):\n",
    "    #generate spline coefficients for dL approximation for each value of z\n",
    "    px, py = 14,14\n",
    "    dLtr_poly = lum_grid(zi, H0, Om0tr, OmLtr) #initalize training grid\n",
    "    a = polyfit2d(Om0tr, OmLtr, dLtr_poly, kx=px, ky=py, order=None) #fit spline to data \n",
    "    dLz.append(a)"
   ]
  },
  {
   "cell_type": "markdown",
   "metadata": {},
   "source": [
    "**Task 1a. (10 points)** Write a routine that computes $\\ln L$ for this new 5-parameter model, where \n",
    "\n",
    "$$\\ln L(\\mathbf{y}\\vert\\mathbf{x}) = -\\frac{1}{2}\\,\\sum\\limits_{i=0}^{N_{\\rm SN}-1}\\frac{\\Delta\\mu^2}{\\sigma_{\\Delta\\mu,i}^2}$$\n",
    "\n",
    "and $\\sigma_{\\Delta\\mu,i}^2$ is total uncertainty of the observational estimate of the distance modulus that accounts for uncertainties in $m_B$, $x_1$, and $c$, which by rules of error propagation is: \n",
    "\n",
    "$$\\sigma_{\\Delta\\mu,i}^2 = \\sigma_{m_B}^2 + \\alpha^2\\sigma_{x1}^2 + \\beta^2\\sigma_c^2,$$\n",
    "\n",
    "which means that the error also depends on the two model parameters, $\\alpha$ and $\\beta$. "
   ]
  },
  {
   "cell_type": "code",
   "execution_count": 9,
   "metadata": {},
   "outputs": [],
   "source": [
    "from scipy.optimize import differential_evolution as de\n",
    "def fit_dl(Om0_vec, OmL_vec, a):\n",
    "    Om0_grid, OmL_grid = np.meshgrid(Om0_vec, OmL_vec, sparse=False, indexing='ij')\n",
    "    fitted = np.polynomial.polynomial.polyval2d(Om0_grid, OmL_grid, a.reshape((px+1,py+1)))\n",
    "    return fitted\n",
    "def logL2(x):\n",
    "    \"\"\"\n",
    "    Parameters:\n",
    "    x: vector containing Om0, OmL, tM0, alpha, beta\n",
    "    \n",
    "    Returns:\n",
    "    -2 ln(L)\n",
    "    \"\"\"\n",
    "    Omega0, OmegaL, tildeM0, a, b = x\n",
    "    logLZ = 0\n",
    "\n",
    "    for iz, zi in enumerate(zCMB):\n",
    "        dL = fit_dl(Omega0, OmegaL, dLz[iz])\n",
    "        dMu = mB[iz]-5*np.log10(dL)-tildeM0+a*x1[iz]-b*csn[iz]\n",
    "        \n",
    "        sigma2 = emB[iz]**2 + (a*ex1[iz])**2 + (b*ecsn[iz])**2\n",
    "        lTemp = (dMu**2)/sigma2\n",
    "        logLZ = logLZ + lTemp\n",
    "    return logLZ"
   ]
  },
  {
   "cell_type": "markdown",
   "metadata": {},
   "source": [
    "**Task 1b. (8 points)** \n",
    "The parameters that minimize $-2\\ln L$ are: $\\Omega_{\\rm m0} \\approx 0.252, \\Omega_\\Lambda \\approx 0.703, \\tilde{M}_0 \\approx 24.075, \\alpha = 0.130, \\beta = 3.174$. These parameters differ from the ones that minimize the $\\chi^2$ value in Homework 3: $\\Omega_{\\rm m0} \\approx 0.468, \\Omega_\\Lambda \\approx 0.516, \\tilde{M}_0 \\approx 24.089$. \n",
    "While the $\\tilde{M}_0$ value is similar using both minimization methods, the $\\Omega_{\\rm m0}$ estimated using the 5-parameter model is smaller and the $\\Omega_\\Lambda$ is larger. This 5-parameter model is more accurate, and the estimated $\\Omega_\\Lambda = 0.703$ that minimizes error associated with the likelihood function is very close to the accepted value of $\\Omega_\\Lambda$ around 0.68."
   ]
  },
  {
   "cell_type": "code",
   "execution_count": 21,
   "metadata": {},
   "outputs": [
    {
     "name": "stdout",
     "output_type": "stream",
     "text": [
      "5\n",
      "[ 0.25203076  0.70298803 24.07510902  0.12999434  3.17389316] [[622.71339169]]\n"
     ]
    }
   ],
   "source": [
    "#define bounds for minimization\n",
    "bounds = [(0,1.),(0,1.),(20.,28.),(0.05,0.3),(1.,5.)]\n",
    "print(result.x, result.fun)"
   ]
  },
  {
   "cell_type": "markdown",
   "metadata": {},
   "source": [
    "**Task 1c (2 points).\n",
    "\n",
    "The reduced $\\chi^2$ for the values of the parameters that minimize the $-2\\ln L$ is $\\approx 3.68$. This suggests that the 5-parameter model describes the supernova measurements more accurately than the 3-parameter value, because this reduced $\\chi^2$ is smaller than the minimum reduced $\\chi^2$ obtained from Homework 3, which was $\\approx 6.21$."
   ]
  },
  {
   "cell_type": "code",
   "execution_count": 26,
   "metadata": {},
   "outputs": [
    {
     "data": {
      "text/plain": [
       "3.6810282290021292"
      ]
     },
     "execution_count": 26,
     "metadata": {},
     "output_type": "execute_result"
    }
   ],
   "source": [
    "def redChi2(params):\n",
    "    Omega0, OmegaL, tildeM0, a, b = params\n",
    "    \n",
    "    chiZ = np.empty(np.size(zCMB))\n",
    "    for i, zi in enumerate(zCMB):\n",
    "        #dL approx corresponding to the ith supernova\n",
    "        dL_approx = fit_dl(Omega0, OmegaL, dLz[i]) #2d grid for supernova\n",
    "        dMu = mB[i] - 5*np.log10(dL_approx) - tildeM0 +a*x1[iz]-b*csn[iz]\n",
    "        sigma2 = emB[iz]**2 + (a*ex1[iz])**2 + (b*ecsn[iz])**2\n",
    "        chiZ[i] = (dMu**2)/sigma2\n",
    "    \n",
    "    #return reduced chi2 value\n",
    "    return np.sum(chiZ)/(len(zCMB) - len(params))\n",
    "\n",
    "redChi2(result.x)"
   ]
  },
  {
   "cell_type": "markdown",
   "metadata": {},
   "source": [
    "#### Group work\n",
    "\n",
    "If you feel that your group work in hw 3 was productive, I encourage you to continue working with your group. You can also form a new group, if you wish. In this type of exercise it is helpful to discuss approach and results in a group and such collaborative work is encouraged. "
   ]
  },
  {
   "cell_type": "code",
   "execution_count": null,
   "metadata": {},
   "outputs": [],
   "source": []
  }
 ],
 "metadata": {
  "kernelspec": {
   "display_name": "Python 3",
   "language": "python",
   "name": "python3"
  },
  "language_info": {
   "codemirror_mode": {
    "name": "ipython",
    "version": 3
   },
   "file_extension": ".py",
   "mimetype": "text/x-python",
   "name": "python",
   "nbconvert_exporter": "python",
   "pygments_lexer": "ipython3",
   "version": "3.7.4"
  }
 },
 "nbformat": 4,
 "nbformat_minor": 1
}
